{
 "cells": [
  {
   "cell_type": "code",
   "execution_count": 19,
   "metadata": {},
   "outputs": [],
   "source": [
    "import os\n",
    "from os.path import exists\n",
    "import torch\n",
    "import torch.nn as nn\n",
    "import torch.nn.functional as F\n",
    "import math\n",
    "import copy\n",
    "import time\n",
    "from torch.optim.lr_scheduler import LambdaLR\n",
    "import pandas as pd\n",
    "import altair as alt\n",
    "# from torchtext.data.functional import to_map_style_dataset\n",
    "from torch.utils.data import DataLoader\n",
    "# from torchtext.vocab import build_vocab_from_iterator\n",
    "# import torchtext.datasets as datasets\n",
    "import spacy\n",
    "import GPUtil\n",
    "import warnings\n",
    "from torch.utils.data.distributed import DistributedSampler\n",
    "import torch.distributed as dist\n",
    "import torch.multiprocessing as mp\n",
    "from torch.nn.parallel import DistributedDataParallel as DDP"
   ]
  },
  {
   "cell_type": "code",
   "execution_count": 17,
   "metadata": {},
   "outputs": [],
   "source": [
    "# Some convenience helper functions used throughout the notebook\n",
    "\n",
    "\n",
    "def is_interactive_notebook():\n",
    "    return __name__ == \"__main__\"\n",
    "\n",
    "\n",
    "def show_example(fn, args=[]):\n",
    "    if __name__ == \"__main__\" and RUN_EXAMPLES:\n",
    "        return fn(*args)\n",
    "\n",
    "\n",
    "def execute_example(fn, args=[]):\n",
    "    if __name__ == \"__main__\" and RUN_EXAMPLES:\n",
    "        fn(*args)\n",
    "\n",
    "\n",
    "class DummyOptimizer(torch.optim.Optimizer):\n",
    "    def __init__(self):\n",
    "        self.param_groups = [{\"lr\": 0}]\n",
    "        None\n",
    "\n",
    "    def step(self):\n",
    "        None\n",
    "\n",
    "    def zero_grad(self, set_to_none=False):\n",
    "        None\n",
    "\n",
    "\n",
    "class DummyScheduler:\n",
    "    def step(self):\n",
    "        None"
   ]
  },
  {
   "cell_type": "markdown",
   "metadata": {},
   "source": [
    "## Part 1: Model Architecture\n",
    "\n",
    "### Model Architecture\n",
    "\n",
    "The Encoder maps an input sequence of symbol representations $(x_1, \\ldots, x_n)$ to a sequence continuous representations $\\textbf{z}=(z_1,\\ldots, z_n)$. Given $\\textbf{z}$.\n",
    "\n",
    "The decoder then generates an output sequence $(y_1,\\ldots,y_n)$ of symbols one element at a time. At each step the model is *auto-regressive*, _consuming the previously generated symbols as additional input_ when generating the next."
   ]
  },
  {
   "cell_type": "code",
   "execution_count": 18,
   "metadata": {},
   "outputs": [],
   "source": [
    "class EncoderDecoder(nn.Module):\n",
    "    \"\"\"\n",
    "    A standard Encoder-Decoder architecture.\n",
    "    \"\"\"\n",
    "\n",
    "    def __init__(self, encoder, decoder, src_embed, tgt_embed, generator):\n",
    "        super().__init__()\n",
    "        self.encoder = encoder\n",
    "        self.decoder = decoder\n",
    "        self.src_embed = src_embed\n",
    "        self.tgt_embed = tgt_embed\n",
    "        self.generator = generator\n",
    "    \n",
    "    def forward(self, src, tgt, src_mask, tgt_mask):\n",
    "        ' Take in and process masked scr and target sequences. '\n",
    "        return self.decode(self.encode(src, src_mask), src_mask, tgt, tgt_mask)\n",
    "\n",
    "    def encode(self, src, src_embed):\n",
    "        return self.encoder(self.src_embed(src), src_embed)\n",
    "    \n",
    "    def decode(self, memory, src_mask, tgt, tgt_mask):\n",
    "        return self.decoder(self.tgt_embed(tgt), memory, src_mask, tgt_mask)"
   ]
  },
  {
   "cell_type": "markdown",
   "metadata": {},
   "source": [
    "[`F.log_softmax`](https://pytorch.org/docs/stable/generated/torch.nn.functional.log_softmax.html)\n",
    "\n",
    "Apply a softmax followed by a logarithm.\n",
    "\n",
    "While mathematically equivalent to `log(softmax(x))`, __doing these two operations separately is slower and numerically unstable__. This function uses an alternative formulation to _compute the output and gradient correctly_.\n",
    "\n",
    "$$\n",
    "\\text{LogSoftmax}(x_i) = \\log \\frac{\\exp(x_i)}{\\sum_j\\exp(x_j)}\n",
    "$$"
   ]
  },
  {
   "cell_type": "code",
   "execution_count": 20,
   "metadata": {},
   "outputs": [],
   "source": [
    "class Generator(nn.Module):\n",
    "    \" Define standard Linear + Softmax generation step \"\n",
    "\n",
    "    def __init__(self, d_model, vocab):\n",
    "        super().__init__()\n",
    "        # project from d_model to vocab_size\n",
    "        self.proj = nn.Linear(d_model, vocab)\n",
    "\n",
    "    def forward(self, x):\n",
    "        # log_softmax on last dim (vocab_size) to get prob_distrib\n",
    "        return F.log_softmax(self.proj(x), dim=-1)  # (batch_size, sequence_length, vocab_size)"
   ]
  },
  {
   "cell_type": "markdown",
   "metadata": {},
   "source": [
    "### Encoder and Decoder Stacks\n",
    "\n",
    "#### Encoder\n",
    "\n",
    "The encoder is composed of a stack of $N=6$ identical layers."
   ]
  },
  {
   "cell_type": "code",
   "execution_count": 21,
   "metadata": {},
   "outputs": [],
   "source": [
    "def clones(module, N):\n",
    "    ' clone N same module '\n",
    "    return nn.ModuleList([copy.deepcopy(module) for _ in range(N)])"
   ]
  },
  {
   "cell_type": "markdown",
   "metadata": {},
   "source": [
    "#### Layer Normalization\n",
    "\n",
    "Reduce the covariate shift problem from Batch Norm by _fixing the mean and the variance of the summed inputs within each layer_.\n",
    "\n",
    "Thus, compute the layer normalization statistics over all the elements in the same layer:\n",
    "\n",
    "$$\n",
    "\\begin{align}\n",
    "LN(\\textbf{z};\\alpha, \\beta) &= \\frac{(\\textbf{z} - \\mu)}{\\sigma}\\odot\\alpha + \\beta \\\\\n",
    "\\mu = \\frac{1}{D}\\sum_{i=1}^Dz_i, &\\ \\sigma = \\sqrt{\\frac{1}{D}\\sum_{i=1}(z_i - \\mu)^2}\n",
    "\\end{align}\n",
    "$$\n",
    "\n",
    "where $z_i$ is the $i$-th element of the vector $\\textbf{z}$.\n",
    "\n",
    "\n",
    "In [PyTorch](https://pytorch.org/docs/stable/generated/torch.nn.LayerNorm.html),\n",
    "\n",
    "`torch.nn.LayerNorm(normalized_shape, eps=1e-05, elementwise_affine=True, bias=True, device=None, dtype=None)`\n",
    "\n",
    "which implement the same equation:\n",
    "\n",
    "$$\n",
    "y = \\frac{x - \\textbf{E}[x]}{\\sqrt{\\textbf{Var}[x] + \\epsilon}} * \\gamma + \\beta\n",
    "$$\n",
    "\n",
    "The mean and standard-deviation are calculated over _the last $D$ dimensions_, where $D$ is the dimension of `normalized_shape`.\n",
    "\n",
    "$\\gamma$ and $\\beta$ are _learnable affine transform parameters_ of normalized_shape if `elementwise_affine` is True. "
   ]
  },
  {
   "cell_type": "code",
   "execution_count": 23,
   "metadata": {},
   "outputs": [],
   "source": [
    "class LayerNorm(nn.Module):\n",
    "    ' Construct a Layer Norm module '\n",
    "    def __init__(self, features, eps=1e-6):\n",
    "        super().__init__()\n",
    "        self.a_2 = nn.Parameter(torch.ones(features))\n",
    "        self.b_2 = nn.Parameter(torch.zeros(features))\n",
    "        self.eps = eps\n",
    "    \n",
    "    def forward(self, x):\n",
    "        mean = x.mean(-1, keepdim=True)\n",
    "        std = x.std(-1, keepdim=True)\n",
    "        return self.a_2 * (x - mean) / (std + self.eps) + self.b_2"
   ]
  },
  {
   "cell_type": "code",
   "execution_count": 22,
   "metadata": {},
   "outputs": [],
   "source": [
    "class Encoder(nn.Module):\n",
    "    ' Core encoder '\n",
    "    def __init__(self, layer, N):\n",
    "        super().__init__()\n",
    "        self.layers = clones(layer, N)\n",
    "        # self.ln = nn.LayerNorm(layer.size)\n",
    "        self.ln = LayerNorm(layer.size)\n",
    "\n",
    "    def forward(self, x, mask):\n",
    "        ' Pass the input (and mask) through each layer in turn '\n",
    "        for layer in self.layers:\n",
    "            x = layer(x, mask)\n",
    "        return self.ln(x)"
   ]
  },
  {
   "cell_type": "code",
   "execution_count": 24,
   "metadata": {},
   "outputs": [],
   "source": [
    "class SublayerConnection(nn.Module):\n",
    "    '''\n",
    "    A residual connection followed by a layer norm.\n",
    "    '''\n",
    "\n",
    "    def __init__(self, size, dropout):\n",
    "        super().__init__()\n",
    "        self.norm = LayerNorm(size)\n",
    "        self.dropout = dropout\n",
    "\n",
    "    def forward(self, x, sublayer):\n",
    "        \" Apply the residual connection to any sublayer with the same size. \"\n",
    "        ' Apply dropout to the output of each sublayer before added to the usublayer input and normalized '\n",
    "        return x + self.dropout(sublayer(self.norm(x)))"
   ]
  },
  {
   "cell_type": "code",
   "execution_count": 28,
   "metadata": {},
   "outputs": [],
   "source": [
    "class EncoderLayer(nn.Module):\n",
    "    '''\n",
    "    Each encoder layer has 2 sublayers: a multi-head attention and a feed forward\n",
    "    '''\n",
    "    def __init__(self, size, self_atten, ffn, dropout):\n",
    "        super().__init__()\n",
    "        self.self_atten = self_atten\n",
    "        self.ffn = ffn\n",
    "        self.sublayer = clones(SublayerConnection(size, dropout), 2)\n",
    "        self.size = size\n",
    "    \n",
    "    def forward(self, x, mask):\n",
    "        x = self.sublayer[0](x, lambda x: self.self_atten(x, x, x, mask))\n",
    "        return self.sublayer[1](x, self.ffn)"
   ]
  },
  {
   "cell_type": "markdown",
   "metadata": {},
   "source": [
    "#### Decoder\n",
    "\n",
    "The decoder is also composed of a stack of $N=6$ identical layers."
   ]
  },
  {
   "cell_type": "code",
   "execution_count": 27,
   "metadata": {},
   "outputs": [],
   "source": [
    "class Decoder(nn.Module):\n",
    "    def __init__(self, layer, N):\n",
    "        super().__init__()\n",
    "        self.layers = clones(layer, N)\n",
    "        self.norm = LayerNorm(layer.size)\n",
    "\n",
    "    def forward(self, x, memory, src_mask, tgt_mask):\n",
    "        for layer in self.layers:\n",
    "            x = layer(x, memory, src_mask, tgt_mask)\n",
    "        return self.norm(x)\n"
   ]
  },
  {
   "cell_type": "code",
   "execution_count": 29,
   "metadata": {},
   "outputs": [],
   "source": [
    "class DecoderLayer(nn.Module):\n",
    "    ' Decoder is made of self-atten (masked), scr_atten, and FFN '\n",
    "    def __init__(self, size, self_atten, scr_atten, ffn, dropout):\n",
    "        super().__init__()\n",
    "        self.size = size\n",
    "        self.self_atten = self_atten\n",
    "        self.src_atten = scr_atten\n",
    "        self.ffn = ffn\n",
    "        self.sublayer = clones(SublayerConnection(size, dropout), 3)\n",
    "\n",
    "    def forward(self, x, memory, scr_mask, tgt_mask):\n",
    "        m = memory\n",
    "        x = self.sublayer[0](x, lambda x: self.self_atten(x, x, x, tgt_mask))\n",
    "        x = self.sublayer[1](x, lambda x: self.src_atten(x, m, m, scr_mask))\n",
    "        return self.sublayer[2](x, self.ffn)"
   ]
  },
  {
   "cell_type": "code",
   "execution_count": null,
   "metadata": {},
   "outputs": [],
   "source": []
  }
 ],
 "metadata": {
  "kernelspec": {
   "display_name": "Python 3",
   "language": "python",
   "name": "python3"
  },
  "language_info": {
   "codemirror_mode": {
    "name": "ipython",
    "version": 3
   },
   "file_extension": ".py",
   "mimetype": "text/x-python",
   "name": "python",
   "nbconvert_exporter": "python",
   "pygments_lexer": "ipython3",
   "version": "3.11.6"
  }
 },
 "nbformat": 4,
 "nbformat_minor": 2
}
